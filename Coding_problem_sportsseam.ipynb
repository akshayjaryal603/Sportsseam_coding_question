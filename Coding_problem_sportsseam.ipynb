{
 "cells": [
  {
   "cell_type": "code",
   "execution_count": 22,
   "metadata": {},
   "outputs": [
    {
     "data": {
      "text/plain": [
       "[('sunil', 200), ('Virat', 50), ('Akshay', 100)]"
      ]
     },
     "execution_count": 22,
     "metadata": {},
     "output_type": "execute_result"
    }
   ],
   "source": [
    "l1 = [(\"sunil\", 200),(\"Virat\",50),(\"Akshay\",100)] \n",
    "l1"
   ]
  },
  {
   "cell_type": "code",
   "execution_count": 39,
   "metadata": {},
   "outputs": [
    {
     "data": {
      "text/plain": [
       "['sunil', 'Virat', 'Akshay']"
      ]
     },
     "execution_count": 39,
     "metadata": {},
     "output_type": "execute_result"
    }
   ],
   "source": [
    "l2 = []\n",
    "for i in l1:\n",
    "    l2.append(i[0])\n",
    "l2\n",
    "\n",
    "l3 = [x[0] for x in l1]\n",
    "l3"
   ]
  },
  {
   "cell_type": "code",
   "execution_count": 21,
   "metadata": {},
   "outputs": [
    {
     "name": "stdout",
     "output_type": "stream",
     "text": [
      "200\n"
     ]
    }
   ],
   "source": [
    "count = 0\n",
    "for i in l1:\n",
    "    a = i[1]\n",
    "    #print(a)\n",
    "    if count < a:\n",
    "        count = a\n",
    "\n",
    "print(count)"
   ]
  },
  {
   "cell_type": "code",
   "execution_count": 23,
   "metadata": {},
   "outputs": [
    {
     "data": {
      "text/plain": [
       "('sunil', 200)"
      ]
     },
     "execution_count": 23,
     "metadata": {},
     "output_type": "execute_result"
    }
   ],
   "source": [
    "max(l1)"
   ]
  },
  {
   "cell_type": "code",
   "execution_count": 24,
   "metadata": {},
   "outputs": [
    {
     "data": {
      "text/plain": [
       "('Akshay', 100)"
      ]
     },
     "execution_count": 24,
     "metadata": {},
     "output_type": "execute_result"
    }
   ],
   "source": [
    "min(l1)"
   ]
  },
  {
   "cell_type": "code",
   "execution_count": 25,
   "metadata": {},
   "outputs": [
    {
     "data": {
      "text/plain": [
       "('Akshay', '100')"
      ]
     },
     "execution_count": 25,
     "metadata": {},
     "output_type": "execute_result"
    }
   ],
   "source": [
    "l1 = [(\"sunil\", \"200\"),(\"Virat\",\"50\"),(\"Akshay\",\"100\")] \n",
    "min(l1)"
   ]
  },
  {
   "cell_type": "code",
   "execution_count": 26,
   "metadata": {},
   "outputs": [
    {
     "data": {
      "text/plain": [
       "('sunil', '200')"
      ]
     },
     "execution_count": 26,
     "metadata": {},
     "output_type": "execute_result"
    }
   ],
   "source": [
    "max(l1)"
   ]
  },
  {
   "cell_type": "code",
   "execution_count": 30,
   "metadata": {},
   "outputs": [
    {
     "name": "stdout",
     "output_type": "stream",
     "text": [
      "0 ('sunil', '200')\n",
      "1 ('Virat', '50')\n",
      "2 ('Akshay', '100')\n"
     ]
    }
   ],
   "source": [
    "for i,j in enumerate(l1):\n",
    "    print(i,j)"
   ]
  },
  {
   "cell_type": "code",
   "execution_count": 77,
   "metadata": {},
   "outputs": [
    {
     "name": "stdout",
     "output_type": "stream",
     "text": [
      "('Akshay', '100')\n",
      "('sunil', '200')\n"
     ]
    }
   ],
   "source": [
    "l4 = [(\"sunil\", '200'),(\"Virat\",'150'),(\"Akshay\",'100')] \n",
    "l5 = [int(x[1]) for x in l4]\n",
    "l5\n",
    "a=str(min(l5))\n",
    "a\n",
    "# b = filter(lambda x: ((x[1] == a), l4))\n",
    "# b\n",
    "\n",
    "l4.sort(key = lambda x: x[1])\n",
    "l4\n",
    "print(min(l4))\n",
    "print(max(l4))"
   ]
  },
  {
   "cell_type": "code",
   "execution_count": 91,
   "metadata": {},
   "outputs": [
    {
     "name": "stdout",
     "output_type": "stream",
     "text": [
      "[('virat', '100'), ('sunil', '150'), ('akshay', '200')]\n",
      "('virat', '100')\n",
      "('akshay', '200')\n"
     ]
    }
   ],
   "source": [
    "list4 = [(\"akshay\", '200'),(\"sunil\",'150'),(\"virat\",'100')] \n",
    "#l5 = [int(x[1]) for x in l4]\n",
    "\n",
    "list4.sort(key = lambda i: i[1])\n",
    "\n",
    "# sorted list\n",
    "print(list4)\n",
    "\n",
    "# minimum value is at 0 index of the list\n",
    "\n",
    "print(list4[0])\n",
    "\n",
    "# maximum value is at last index of the list\n",
    "# for that purpose I used len() function for finding the length of list \n",
    "\n",
    "a = len(list4)\n",
    "print(list4[a-1])\n"
   ]
  }
 ],
 "metadata": {
  "kernelspec": {
   "display_name": "Python 3",
   "language": "python",
   "name": "python3"
  },
  "language_info": {
   "codemirror_mode": {
    "name": "ipython",
    "version": 3
   },
   "file_extension": ".py",
   "mimetype": "text/x-python",
   "name": "python",
   "nbconvert_exporter": "python",
   "pygments_lexer": "ipython3",
   "version": "3.7.3"
  }
 },
 "nbformat": 4,
 "nbformat_minor": 2
}
